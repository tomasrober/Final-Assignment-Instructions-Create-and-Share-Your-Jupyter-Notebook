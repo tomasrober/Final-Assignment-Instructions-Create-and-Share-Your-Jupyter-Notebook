{
 "cells": [
  {
   "cell_type": "markdown",
   "id": "85904e45-d06e-44a5-9177-8577e1af288f",
   "metadata": {},
   "source": [
    "# Data Science Tools and Ecosystem"
   ]
  },
  {
   "cell_type": "markdown",
   "id": "0356dc45-d41d-4ca8-957e-ba3937cec64b",
   "metadata": {},
   "source": [
    "In this notebook, Data Science Tools and Ecosystem are summarized."
   ]
  },
  {
   "cell_type": "markdown",
   "id": "e87fcce7-1b84-4b51-88b1-f9c88e917f3d",
   "metadata": {},
   "source": [
    "**Objetives:**\n",
    "- List of popular languages for Data Science\n",
    "- Test for arithetic expression in Jupyter Notebooks\n",
    "- Use of GitHub repositories"
   ]
  },
  {
   "cell_type": "markdown",
   "id": "9b4eae1d-7cf9-453a-9220-d70581878cf7",
   "metadata": {},
   "source": [
    "Some of the popular languages that Data Scientists use are:\n",
    "\n",
    "1. R\n",
    "2. Python\n",
    "3. Julia"
   ]
  },
  {
   "cell_type": "markdown",
   "id": "37574c3a-9d33-409b-b3b2-01b74fec09ee",
   "metadata": {},
   "source": [
    "|Data Science Tools|\n",
    "|:---|\n",
    "|Jupyter Notebooks|\n",
    "|RStudio|\n",
    "|Anaconda|"
   ]
  },
  {
   "cell_type": "markdown",
   "id": "0cfbf4ff-3611-4ee2-bbf7-75f48a13ab85",
   "metadata": {},
   "source": [
    "### Below are a few examples of evaluating arithmetic expressions in Python"
   ]
  },
  {
   "cell_type": "code",
   "execution_count": 1,
   "id": "a6a94fad-3414-4f85-8179-463f9485c852",
   "metadata": {},
   "outputs": [
    {
     "data": {
      "text/plain": [
       "17"
      ]
     },
     "execution_count": 1,
     "metadata": {},
     "output_type": "execute_result"
    }
   ],
   "source": [
    "# This a simple arithmetic expression to mutiply then add integers\n",
    "(3*4)+5"
   ]
  },
  {
   "cell_type": "code",
   "execution_count": 3,
   "id": "ebefba05-382a-4cf7-b6a8-78c8a1c54e84",
   "metadata": {},
   "outputs": [
    {
     "name": "stdout",
     "output_type": "stream",
     "text": [
      "3.3333333333333335\n"
     ]
    }
   ],
   "source": [
    "#This will convert 200 minutes to hours by diving by 60\n",
    "minutes = 200\n",
    "minutes_per_hour = 60\n",
    "time_in_hours = minutes / minutes_per_hour\n",
    "print (time_in_hours)"
   ]
  },
  {
   "cell_type": "markdown",
   "id": "cc080905-a5cd-42a3-8382-35c55f64a466",
   "metadata": {},
   "source": [
    "## Author\n",
    "Tomas Roberto Lopez Angulo"
   ]
  },
  {
   "cell_type": "code",
   "execution_count": null,
   "id": "bbacc118-9204-4a5d-88b4-2128c5768a6a",
   "metadata": {},
   "outputs": [],
   "source": []
  }
 ],
 "metadata": {
  "kernelspec": {
   "display_name": "Python 3 (ipykernel)",
   "language": "python",
   "name": "python3"
  },
  "language_info": {
   "codemirror_mode": {
    "name": "ipython",
    "version": 3
   },
   "file_extension": ".py",
   "mimetype": "text/x-python",
   "name": "python",
   "nbconvert_exporter": "python",
   "pygments_lexer": "ipython3",
   "version": "3.12.8"
  }
 },
 "nbformat": 4,
 "nbformat_minor": 5
}
